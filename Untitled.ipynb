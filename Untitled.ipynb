{
 "cells": [
  {
   "cell_type": "code",
   "execution_count": 1,
   "id": "54607e34-bb55-4b53-b9da-d6273f34652a",
   "metadata": {},
   "outputs": [],
   "source": [
    "from pyspark.sql import *"
   ]
  },
  {
   "cell_type": "code",
   "execution_count": 2,
   "id": "9a9f00a7-70e9-496a-86b1-154851285f24",
   "metadata": {},
   "outputs": [
    {
     "name": "stderr",
     "output_type": "stream",
     "text": [
      "Picked up JAVA_TOOL_OPTIONS: -XX:+UseContainerSupport -XX:ActiveProcessorCount=2\n",
      "Picked up JAVA_TOOL_OPTIONS: -XX:+UseContainerSupport -XX:ActiveProcessorCount=2\n",
      "Setting default log level to \"WARN\".\n",
      "To adjust logging level use sc.setLogLevel(newLevel). For SparkR, use setLogLevel(newLevel).\n",
      "24/10/02 21:48:18 WARN NativeCodeLoader: Unable to load native-hadoop library for your platform... using builtin-java classes where applicable\n",
      "                                                                                \r"
     ]
    },
    {
     "name": "stdout",
     "output_type": "stream",
     "text": [
      "+-----+---+\n",
      "| Name|Age|\n",
      "+-----+---+\n",
      "| Ravi| 28|\n",
      "|David| 45|\n",
      "|Abdul| 37|\n",
      "+-----+---+\n",
      "\n"
     ]
    }
   ],
   "source": [
    "from pyspark.sql import *\n",
    "import os\n",
    "if __name__ == \"__main__\":\n",
    "    #print(\"helloSpark\")\n",
    "    #os.environ[\"PYSPARK_PYTHON\"] =\"C:/Users/yahia/AppData/Local/Programs/Python/Python312-32/python.exe\"\n",
    "    spark = SparkSession.builder\\\n",
    "            .appName('Hello Spark')\\\n",
    "            .master(\"local[2]\")\\\n",
    "            .getOrCreate()\n",
    "\n",
    "    data_list = [('Ravi',28),\n",
    "                 ('David',45),\n",
    "                 ('Abdul',37)]\n",
    "\n",
    "    df = spark.createDataFrame(data_list).toDF('Name','Age')\n",
    "    df.show()"
   ]
  },
  {
   "cell_type": "code",
   "execution_count": 3,
   "id": "a7fa78bc-c6a2-4dea-a794-be91c30aaa79",
   "metadata": {},
   "outputs": [],
   "source": [
    "spark.stop()"
   ]
  },
  {
   "cell_type": "code",
   "execution_count": null,
   "id": "9be1a9db-96ce-450e-8bc8-2a78dd4ce56b",
   "metadata": {},
   "outputs": [],
   "source": []
  }
 ],
 "metadata": {
  "kernelspec": {
   "display_name": "Python 3 (ipykernel)",
   "language": "python",
   "name": "python3"
  },
  "language_info": {
   "codemirror_mode": {
    "name": "ipython",
    "version": 3
   },
   "file_extension": ".py",
   "mimetype": "text/x-python",
   "name": "python",
   "nbconvert_exporter": "python",
   "pygments_lexer": "ipython3",
   "version": "3.9.20"
  }
 },
 "nbformat": 4,
 "nbformat_minor": 5
}
